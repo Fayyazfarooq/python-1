{
 "cells": [
  {
   "cell_type": "code",
   "execution_count": null,
   "metadata": {},
   "outputs": [],
   "source": [
    "def greet_user():\n",
    "    \n",
    "    print(\"Hello!\")"
   ]
  },
  {
   "cell_type": "code",
   "execution_count": null,
   "metadata": {},
   "outputs": [],
   "source": []
  },
  {
   "cell_type": "code",
   "execution_count": null,
   "metadata": {},
   "outputs": [],
   "source": [
    "def greet_user(username):\n",
    "    \"\"\"Display a simple greeting.\"\"\"\n",
    "    print(\"Hello, \" + username.title() + \"!\")\n"
   ]
  },
  {
   "cell_type": "code",
   "execution_count": null,
   "metadata": {},
   "outputs": [],
   "source": [
    "greet_user('jesse')"
   ]
  },
  {
   "cell_type": "code",
   "execution_count": null,
   "metadata": {},
   "outputs": [],
   "source": [
    "def greet_user(username):\n",
    "    \"\"\"hello\"\"\"\n",
    "    print(\"hello \",username.title())"
   ]
  },
  {
   "cell_type": "code",
   "execution_count": null,
   "metadata": {},
   "outputs": [],
   "source": [
    "greet_user(\"fayyqaz\")"
   ]
  },
  {
   "cell_type": "code",
   "execution_count": null,
   "metadata": {},
   "outputs": [],
   "source": [
    "def fav_book(title):\n",
    "    \"\"\"book\"\"\"\n",
    "    print(\"One of my favorite books is \" + title.title())"
   ]
  },
  {
   "cell_type": "code",
   "execution_count": null,
   "metadata": {},
   "outputs": [],
   "source": [
    "fav_book('deewan e ghalib')"
   ]
  },
  {
   "cell_type": "code",
   "execution_count": null,
   "metadata": {},
   "outputs": [],
   "source": [
    "def describe_pet(animal_type, pet_name):\n",
    "    \"\"\"Display information about a pet.\"\"\"\n",
    "    print(\"\\nI have a \" + animal_type + \".\")\n",
    "    print(\"My \" + animal_type + \"'s name is \" + pet_name.title() + \".\")"
   ]
  },
  {
   "cell_type": "code",
   "execution_count": null,
   "metadata": {},
   "outputs": [],
   "source": [
    "describe_pet('lucy','dog')"
   ]
  },
  {
   "cell_type": "code",
   "execution_count": null,
   "metadata": {},
   "outputs": [],
   "source": [
    "def describe_pet( pet_name,animal_type='dog',):\n",
    "    \"\"\"Display information about a pet.\"\"\"\n",
    "    print(\"\\nI have a \" + animal_type + \".\")\n",
    "    print(\"My \" + animal_type + \"'s name is \" + pet_name.title() + \".\")"
   ]
  },
  {
   "cell_type": "code",
   "execution_count": null,
   "metadata": {},
   "outputs": [],
   "source": [
    "describe_pet()\n"
   ]
  },
  {
   "cell_type": "code",
   "execution_count": null,
   "metadata": {},
   "outputs": [],
   "source": [
    "def describe_city(cityname, country='dubai'):\n",
    "    '''city'''\n",
    "    print(cityname +' is in ' +country)\n",
    "    "
   ]
  },
  {
   "cell_type": "code",
   "execution_count": null,
   "metadata": {},
   "outputs": [],
   "source": [
    "describe_city(cityname='lalukhet')\n"
   ]
  },
  {
   "cell_type": "code",
   "execution_count": null,
   "metadata": {},
   "outputs": [],
   "source": [
    "def get_formatted_name(first_name, last_name):\n",
    "    \"\"\"Return a full name, neatly formatted.\"\"\"\n",
    "    full_name = first_name + ' ' + last_name\n",
    "    return full_name.title()"
   ]
  },
  {
   "cell_type": "code",
   "execution_count": null,
   "metadata": {},
   "outputs": [],
   "source": [
    "musician = get_formatted_name('jimi', 'hendrix')\n",
    "print(musician)"
   ]
  },
  {
   "cell_type": "code",
   "execution_count": null,
   "metadata": {},
   "outputs": [],
   "source": [
    "def get_formatted_name(first_name, middle_name, last_name):\n",
    "    \"\"\"Return a full name, neatly formatted.\"\"\"\n",
    "    full_name = first_name + ' ' + middle_name + ' ' + last_name\n",
    "    return full_name.title()"
   ]
  },
  {
   "cell_type": "code",
   "execution_count": null,
   "metadata": {},
   "outputs": [],
   "source": [
    "musician = get_formatted_name('john', 'lee', 'hooker')\n",
    "print(musician)"
   ]
  },
  {
   "cell_type": "code",
   "execution_count": null,
   "metadata": {},
   "outputs": [],
   "source": [
    "def get_formatted_name(first_name, last_name, middle_name=''):\n",
    "    \"\"\"Return a full name, neatly formatted.\"\"\"\n",
    "    if middle_name:\n",
    "        full_name = first_name + ' ' + middle_name + ' ' + last_name\n",
    "    else:\n",
    "        full_name = first_name + ' ' + last_name\n",
    "    return full_name.title()"
   ]
  },
  {
   "cell_type": "code",
   "execution_count": null,
   "metadata": {},
   "outputs": [],
   "source": [
    "musician = get_formatted_name('jimi', 'hendrix')\n",
    "print(musician)\n",
    "musician = get_formatted_name('john', 'hooker', 'lee')\n",
    "print(musician)"
   ]
  },
  {
   "cell_type": "code",
   "execution_count": null,
   "metadata": {},
   "outputs": [],
   "source": [
    "def build_person(first_name, last_name):\n",
    "    \"\"\"Return a dictionary of information about a person.\"\"\"\n",
    "    person = {'first': first_name, 'last': last_name}\n",
    "    return person"
   ]
  },
  {
   "cell_type": "code",
   "execution_count": null,
   "metadata": {},
   "outputs": [],
   "source": [
    "musician = build_person('jimi', 'hendrix')\n",
    "print(musician)\n"
   ]
  },
  {
   "cell_type": "code",
   "execution_count": null,
   "metadata": {},
   "outputs": [],
   "source": [
    "def build_person(first_name, last_name, int(age='')):\n",
    "    \"\"\"Return a dictionary of information about a person.\"\"\"\n",
    "    person = {'first': first_name, 'last': last_name}\n",
    "    if age:\n",
    "        person['age'] = age\n",
    "    return person"
   ]
  },
  {
   "cell_type": "code",
   "execution_count": null,
   "metadata": {},
   "outputs": [],
   "source": [
    "musician = build_person('jimi', 'hendrix', age=27)\n",
    "print(musician)"
   ]
  },
  {
   "cell_type": "code",
   "execution_count": null,
   "metadata": {},
   "outputs": [],
   "source": [
    "def get_formatted_name(first_name, last_name):\n",
    "    \"\"\"Return a full name, neatly formatted.\"\"\"\n",
    "    full_name = first_name + ' ' + last_name\n",
    "    return full_name.title()"
   ]
  },
  {
   "cell_type": "code",
   "execution_count": 4,
   "metadata": {},
   "outputs": [],
   "source": [
    "def make_album(artist , albumtitle,number =\"\"):\n",
    "    '''album'''\n",
    "    if number:\n",
    "        alb={'art':artist,'albu':albumtitle, 'num':number}\n",
    "    else:\n",
    "        alb={'art':artist,'albu':albumtitle}\n",
    "    return alb"
   ]
  },
  {
   "cell_type": "code",
   "execution_count": null,
   "metadata": {},
   "outputs": [
    {
     "name": "stdout",
     "output_type": "stream",
     "text": [
      "enter name0justin\n",
      "sjdbcbir\n",
      "{'art': 'justin', 'albu': 'bir'}\n"
     ]
    }
   ],
   "source": [
    "while True:\n",
    "    name= input(\"enter name0\")\n",
    "    album = input('sjdbc')\n",
    "    \n",
    "    dum = make_album(name, album)\n",
    "    print(dum)"
   ]
  },
  {
   "cell_type": "code",
   "execution_count": 2,
   "metadata": {},
   "outputs": [],
   "source": [
    "def greet_users(names):\n",
    "    \"\"\"Print a simple greeting to each user in the list.\"\"\"\n",
    "    for name in names:\n",
    "        msg = \"Hello, \" + name.title() + \"!\"\n",
    "        print(msg)"
   ]
  },
  {
   "cell_type": "code",
   "execution_count": 3,
   "metadata": {},
   "outputs": [
    {
     "name": "stdout",
     "output_type": "stream",
     "text": [
      "Hello, Hannah!\n",
      "Hello, Ty!\n",
      "Hello, Margot!\n"
     ]
    }
   ],
   "source": [
    "usernames = ['hannah', 'ty', 'margot']\n",
    "greet_users(usernames)"
   ]
  },
  {
   "cell_type": "code",
   "execution_count": null,
   "metadata": {},
   "outputs": [],
   "source": []
  }
 ],
 "metadata": {
  "kernelspec": {
   "display_name": "Python 3",
   "language": "python",
   "name": "python3"
  },
  "language_info": {
   "codemirror_mode": {
    "name": "ipython",
    "version": 3
   },
   "file_extension": ".py",
   "mimetype": "text/x-python",
   "name": "python",
   "nbconvert_exporter": "python",
   "pygments_lexer": "ipython3",
   "version": "3.6.4"
  }
 },
 "nbformat": 4,
 "nbformat_minor": 2
}
