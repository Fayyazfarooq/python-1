{
 "cells": [
  {
   "cell_type": "code",
   "execution_count": 1,
   "metadata": {},
   "outputs": [
    {
     "ename": "NameError",
     "evalue": "name 'pydoc' is not defined",
     "output_type": "error",
     "traceback": [
      "\u001b[1;31m---------------------------------------------------------------------------\u001b[0m",
      "\u001b[1;31mNameError\u001b[0m                                 Traceback (most recent call last)",
      "\u001b[1;32m<ipython-input-1-ab374f5916b2>\u001b[0m in \u001b[0;36m<module>\u001b[1;34m()\u001b[0m\n\u001b[1;32m----> 1\u001b[1;33m \u001b[0mhelp\u001b[0m\u001b[1;33m(\u001b[0m\u001b[0mpydoc\u001b[0m\u001b[1;33m)\u001b[0m\u001b[1;33m\u001b[0m\u001b[0m\n\u001b[0m",
      "\u001b[1;31mNameError\u001b[0m: name 'pydoc' is not defined"
     ]
    }
   ],
   "source": [
    "help(pydoc)"
   ]
  },
  {
   "cell_type": "code",
   "execution_count": 2,
   "metadata": {},
   "outputs": [],
   "source": [
    "import pydoc"
   ]
  },
  {
   "cell_type": "code",
   "execution_count": 3,
   "metadata": {},
   "outputs": [
    {
     "name": "stdout",
     "output_type": "stream",
     "text": [
      "Help on module pydoc:\n",
      "\n",
      "NAME\n",
      "    pydoc - Generate Python documentation in HTML or text for interactive use.\n",
      "\n",
      "DESCRIPTION\n",
      "    At the Python interactive prompt, calling help(thing) on a Python object\n",
      "    documents the object, and calling help() starts up an interactive\n",
      "    help session.\n",
      "    \n",
      "    Or, at the shell command line outside of Python:\n",
      "    \n",
      "    Run \"pydoc <name>\" to show documentation on something.  <name> may be\n",
      "    the name of a function, module, package, or a dotted reference to a\n",
      "    class or function within a module or module in a package.  If the\n",
      "    argument contains a path segment delimiter (e.g. slash on Unix,\n",
      "    backslash on Windows) it is treated as the path to a Python source file.\n",
      "    \n",
      "    Run \"pydoc -k <keyword>\" to search for a keyword in the synopsis lines\n",
      "    of all available modules.\n",
      "    \n",
      "    Run \"pydoc -p <port>\" to start an HTTP server on the given port on the\n",
      "    local machine.  Port number 0 can be used to get an arbitrary unused port.\n",
      "    \n",
      "    Run \"pydoc -b\" to start an HTTP server on an arbitrary unused port and\n",
      "    open a Web browser to interactively browse documentation.  The -p option\n",
      "    can be used with the -b option to explicitly specify the server port.\n",
      "    \n",
      "    Run \"pydoc -w <name>\" to write out the HTML documentation for a module\n",
      "    to a file named \"<name>.html\".\n",
      "    \n",
      "    Module docs for core modules are assumed to be in\n",
      "    \n",
      "        https://docs.python.org/X.Y/library/\n",
      "    \n",
      "    This can be overridden by setting the PYTHONDOCS environment variable\n",
      "    to a different URL or to a local directory containing the Library\n",
      "    Reference Manual pages.\n",
      "\n",
      "DATA\n",
      "    __all__ = ['help']\n",
      "    help = <pydoc.Helper instance>\n",
      "\n",
      "DATE\n",
      "    26 February 2001\n",
      "\n",
      "AUTHOR\n",
      "    Ka-Ping Yee <ping@lfw.org>\n",
      "\n",
      "CREDITS\n",
      "    Guido van Rossum, for an excellent programming language.\n",
      "    Tommy Burnette, the original creator of manpy.\n",
      "    Paul Prescod, for all his work on onlinehelp.\n",
      "    Richard Chamberlain, for the first implementation of textdoc.\n",
      "\n",
      "FILE\n",
      "    e:\\new folder\\lib\\pydoc.py\n",
      "\n",
      "\n"
     ]
    }
   ],
   "source": [
    "help(pydoc)"
   ]
  },
  {
   "cell_type": "code",
   "execution_count": 22,
   "metadata": {},
   "outputs": [
    {
     "name": "stdout",
     "output_type": "stream",
     "text": [
      "this is a docstring to check pydoc\n"
     ]
    }
   ],
   "source": [
    "def frend(username):\n",
    "    '''this is a docstring to check pydoc'''\n",
    "print(frend.__doc__)"
   ]
  },
  {
   "cell_type": "code",
   "execution_count": 23,
   "metadata": {},
   "outputs": [
    {
     "name": "stdout",
     "output_type": "stream",
     "text": [
      "this ia a strinf \n",
      "    jbqjwdkjbk\n",
      "    \n",
      "    km.nqnwdlk\n",
      "    \n",
      "    \n"
     ]
    }
   ],
   "source": [
    "def google(text):\n",
    "    '''this ia a strinf \n",
    "    jbqjwdkjbk\n",
    "    \n",
    "    km.nqnwdlk\n",
    "    \n",
    "    '''\n",
    "    \n",
    "print(google.__doc__)"
   ]
  },
  {
   "cell_type": "code",
   "execution_count": 24,
   "metadata": {},
   "outputs": [],
   "source": [
    "###pydoc\n"
   ]
  },
  {
   "cell_type": "code",
   "execution_count": null,
   "metadata": {},
   "outputs": [],
   "source": [
    "python -m pydoc filename"
   ]
  }
 ],
 "metadata": {
  "kernelspec": {
   "display_name": "Python 3",
   "language": "python",
   "name": "python3"
  },
  "language_info": {
   "codemirror_mode": {
    "name": "ipython",
    "version": 3
   },
   "file_extension": ".py",
   "mimetype": "text/x-python",
   "name": "python",
   "nbconvert_exporter": "python",
   "pygments_lexer": "ipython3",
   "version": "3.6.4"
  }
 },
 "nbformat": 4,
 "nbformat_minor": 2
}
